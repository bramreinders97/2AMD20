{
 "cells": [
  {
   "cell_type": "markdown",
   "id": "7ff0265f",
   "metadata": {},
   "source": [
    "# Imports"
   ]
  },
  {
   "cell_type": "code",
   "execution_count": 498,
   "id": "ea0c7eb2",
   "metadata": {},
   "outputs": [],
   "source": [
    "import pandas as pd\n",
    "import numpy as np\n",
    "import math"
   ]
  },
  {
   "cell_type": "markdown",
   "id": "e83b4f64",
   "metadata": {},
   "source": [
    "# Load in datasets"
   ]
  },
  {
   "cell_type": "code",
   "execution_count": 499,
   "id": "cee8ddcb",
   "metadata": {},
   "outputs": [],
   "source": [
    "# Load in dataset\n",
    "moves = pd.read_pickle(\"../Prepared_DFs/moves_final.pkl\")\n",
    "conversions = pd.read_csv(\"../Data/Conversions.csv\").astype('string')"
   ]
  },
  {
   "cell_type": "markdown",
   "id": "42b552ec",
   "metadata": {},
   "source": [
    "## Clean prices"
   ]
  },
  {
   "cell_type": "code",
   "execution_count": 500,
   "id": "23020868",
   "metadata": {},
   "outputs": [],
   "source": [
    "# Load prices\n",
    "prices = pd.read_csv(\"../Data/house_prices_new.csv\", sep = ';')"
   ]
  },
  {
   "cell_type": "code",
   "execution_count": 501,
   "id": "5361747e",
   "metadata": {},
   "outputs": [],
   "source": [
    "# Drop everything that is not a municipality\n",
    "prices = prices.loc[285:]\n",
    "prices.reset_index(inplace=True)\n",
    "prices.drop(columns = 'index',inplace=True)\n",
    "\n",
    "# Filter the year code to become int64\n",
    "prices['Perioden'] = prices['Perioden'].map(lambda x: x.rstrip('00').rstrip(\"JJ\"))\n",
    "prices['Perioden'] = pd.to_datetime(prices['Perioden'], format='%Y').dt.year\n",
    "\n",
    "# Replace \".\" with nan values and convert to float\n",
    "prices.loc[ prices['GemiddeldeWoningwaarde_4'] == '       .', 'GemiddeldeWoningwaarde_4'] = np.nan\n",
    "prices['GemiddeldeWoningwaarde_4'] = prices['GemiddeldeWoningwaarde_4'].astype(float)"
   ]
  },
  {
   "cell_type": "code",
   "execution_count": 502,
   "id": "f54f96b6",
   "metadata": {},
   "outputs": [],
   "source": [
    "# Convert all municipalty codes to the new ones.\n",
    "conv_dict = pd.Series(conversions['newCode'].values, index = conversions['oldCode']).to_dict()\n",
    "prices['RegioS'] = prices['RegioS'].apply(lambda x: conv_dict[x] if x in conv_dict.keys() else x)\n",
    "\n",
    "# Group by regio and year and add up woningen_2 and take the mean of gemiddeldewoningwaarde_4.\n",
    "prices = prices.groupby(['RegioS', 'Perioden']).agg({'Woningen_2':'sum','GemiddeldeWoningwaarde_4': 'mean'}).reset_index()"
   ]
  },
  {
   "cell_type": "code",
   "execution_count": 503,
   "id": "f378cb35",
   "metadata": {},
   "outputs": [],
   "source": [
    "# Remove all municipalities from the prices df that are not in the moves df (RegiovanVertrek & RegioVanVestiging are the same size.)\n",
    "unique_prices = prices.RegioS.unique()\n",
    "unique_moves = moves.RegioVanVestiging.unique()\n",
    "difference = set(unique_prices) - set(unique_moves)\n",
    "difference2 = set(unique_moves) -set(unique_prices) # There is no municipality in prices that is not in moves.\n",
    "difference_index = prices.loc[prices[\"RegioS\"].isin(difference)].index\n",
    "prices.drop(difference_index, inplace=True)"
   ]
  },
  {
   "cell_type": "code",
   "execution_count": 505,
   "id": "aa5897de",
   "metadata": {},
   "outputs": [],
   "source": [
    "# Save the dataset\n",
    "prices.to_pickle(\"../ikosdfs/prices.pkl\")"
   ]
  },
  {
   "cell_type": "markdown",
   "id": "b08d9eed",
   "metadata": {},
   "source": [
    "## Clean population"
   ]
  },
  {
   "cell_type": "code",
   "execution_count": 506,
   "id": "f2fb3d3f",
   "metadata": {},
   "outputs": [],
   "source": [
    "# Load in the dataset\n",
    "population = pd.read_csv(\"../Data/population_size.csv\", sep = ';')\n",
    "\n",
    "# Do the thing with the gender that Bram did\n",
    "population = population[population['Geslacht'] == 'T001038']\n",
    "\n",
    "# Filter the year code to become int64\n",
    "population['Perioden'] = population['Perioden'].map(lambda x: x.rstrip('00').rstrip(\"JJ\"))\n",
    "population['Perioden'] = pd.to_datetime(population['Perioden'], format='%Y').dt.year"
   ]
  },
  {
   "cell_type": "code",
   "execution_count": 507,
   "id": "e232b312",
   "metadata": {},
   "outputs": [
    {
     "name": "stdout",
     "output_type": "stream",
     "text": [
      "People who moved from amsterdam according to moves dataset:  36285.0\n",
      "People who moved from amsterdam according to population dataset:  186    36285.0\n",
      "Name: UitAndereGemeente_11, dtype: float64\n"
     ]
    }
   ],
   "source": [
    "# Holy shit het klopt (Dit is een test om te kijken of de CBS data tussen datasets overeenkomt)\n",
    "headers = population.columns.values.tolist()\n",
    "\n",
    "# Dit is de som van alle mensen die uit amsterdam zijn vertrokken\n",
    "dim = moves[moves[\"RegioVanVestiging\"] == \"GM0363\"]\n",
    "dim2 = dim[dim[\"Perioden\"] == 2017]\n",
    "print(\"People who moved from amsterdam according to moves dataset: \", sum(dim2[\"TussenGemeentenVerhuisdePersonen_1\"]))\n",
    "\n",
    "dom = population[population[\"RegioS\"]==\"GM0363\"]\n",
    "dom2 = dom[dom[\"Perioden\"] == 2017]\n",
    "print(\"People who moved from amsterdam according to population dataset: \", dom2[\"UitAndereGemeente_11\"])"
   ]
  },
  {
   "cell_type": "code",
   "execution_count": 508,
   "id": "48f5bea2",
   "metadata": {},
   "outputs": [],
   "source": [
    "# Make a dictionary of the relevant headers and their aggregation method\n",
    "\n",
    "header_agg = { 'BevolkingOp1Januari_1': 'sum', \n",
    "  'Bevolkingsdichtheid_2': 'sum', \n",
    "  'LevendGeborenKinderen_3': 'sum', \n",
    "  'LevendGeborenKinderenRelatief_4' : 'mean',   # Not sure\n",
    "  'Overledenen_5': 'sum', \n",
    "  'OverledenenRelatief_6': 'mean', # Not sure\n",
    "  'Geboorteoverschot_7': 'sum', \n",
    "  'TotaalVestiging_8': 'sum', \n",
    "  'TotaalVestigingRelatief_9': 'mean', # Not sure\n",
    "  'Immigratie_10': 'sum', \n",
    "  'UitAndereGemeente_11': 'sum', \n",
    "  'TotaalVertrekInclusiefCorrecties_12': 'sum', \n",
    "  'TotaalVertrekInclusiefCoRelatief_13': 'sum', # Not sure\n",
    "  'EmigratieInclusiefAdministratieveC_14': 'sum', \n",
    "  'SaldoAdministratieveCorrecties_15': 'sum', \n",
    "  'NaarAndereGemeente_16': 'sum', \n",
    "  'VestigingsoverschotInclusiefCorrecties_17': 'sum', \n",
    "  'TotaleGroei_18': 'sum', \n",
    "  'TotaleGroeiRelatief_19': 'mean', # Not sure\n",
    "  'BevolkingOp31December_20': 'sum'\n",
    "}\n",
    "\n",
    "# Convert all object items to floats to avoid errors:\n",
    "population['LevendGeborenKinderenRelatief_4'] = population['LevendGeborenKinderenRelatief_4'].astype(float)\n",
    "population['OverledenenRelatief_6'] = population['OverledenenRelatief_6'].astype(float)\n",
    "population['TotaalVestigingRelatief_9'] = population['TotaalVestigingRelatief_9'].astype(float)\n",
    "population['TotaleGroeiRelatief_19'] = population['TotaleGroeiRelatief_19'].astype(float)\n",
    "population['TotaalVertrekInclusiefCoRelatief_13'] = population['TotaalVertrekInclusiefCoRelatief_13'].astype(float)\n",
    "population['BevolkingOp1Januari_1'] = population['BevolkingOp1Januari_1'].astype(float)\n",
    "population['Bevolkingsdichtheid_2'] = population['Bevolkingsdichtheid_2'].astype(float)\n"
   ]
  },
  {
   "cell_type": "code",
   "execution_count": 509,
   "id": "f794aa05",
   "metadata": {},
   "outputs": [],
   "source": [
    "# Convert all municipalty codes to the new ones.\n",
    "conv_dict = pd.Series(conversions['newCode'].values, index = conversions['oldCode']).to_dict()\n",
    "population['RegioS'] = population['RegioS'].apply(lambda x: conv_dict[x] if x in conv_dict.keys() else x)\n",
    "\n",
    "# Group by regio and year and use the aggregation dictionary to decide on the aggregation per column.\n",
    "population = population.groupby(['RegioS', 'Perioden']).agg(header_agg).reset_index()"
   ]
  },
  {
   "cell_type": "code",
   "execution_count": 510,
   "id": "9c40ccf4",
   "metadata": {},
   "outputs": [],
   "source": [
    "# Remove all municipalities from the population df that are not in the moves df (RegiovanVertrek & RegioVanVestiging are the same size.)\n",
    "unique_population = population.RegioS.unique()\n",
    "unique_moves = moves.RegioVanVestiging.unique()\n",
    "difference = set(unique_population) - set(unique_moves)\n",
    "difference2 = set(unique_moves) -set(unique_population) # There is no municipality in population that is not in moves.\n",
    "difference_index2 = population.loc[population[\"RegioS\"].isin(difference)].index\n",
    "population.drop(difference_index2, inplace=True)"
   ]
  },
  {
   "cell_type": "code",
   "execution_count": 511,
   "id": "df451843",
   "metadata": {},
   "outputs": [],
   "source": [
    "population.to_pickle(\"../ikosdfs/population.pkl\")"
   ]
  },
  {
   "cell_type": "markdown",
   "id": "f064bc85",
   "metadata": {},
   "source": [
    "## Clean availability"
   ]
  },
  {
   "cell_type": "code",
   "execution_count": 512,
   "id": "b304f488",
   "metadata": {},
   "outputs": [],
   "source": [
    "# Load the dataset\n",
    "availy = pd.read_csv(\"../Data/house_availability.csv\", sep = ';')\n",
    "\n",
    "# Filter the year code to become int64\n",
    "availy['Perioden'] = availy['Perioden'].map(lambda x: x.rstrip('00').rstrip(\"JJ\"))\n",
    "availy['Perioden'] = pd.to_datetime(availy['Perioden'], format='%Y').dt.year\n",
    "\n",
    "# Drop all 2021 periods\n",
    "availy = availy.drop(availy[availy.Perioden == 2021].index)\n"
   ]
  },
  {
   "cell_type": "code",
   "execution_count": 513,
   "id": "e5aae7d0",
   "metadata": {},
   "outputs": [],
   "source": [
    "column_headers = availy.columns.values.tolist()\n",
    "column_headers\n",
    "header_dict = {\n",
    " 'TotaleWoningvoorraad_1': 'sum',\n",
    " 'Koopwoningen_2': 'sum',\n",
    " 'TotaalHuurwoningen_3': 'sum',\n",
    " 'EigendomWoningcorporatie_4': 'sum',\n",
    " 'EigendomOverigeVerhuurders_5': 'sum',\n",
    " 'EigendomOnbekend_6': 'sum'\n",
    "}"
   ]
  },
  {
   "cell_type": "code",
   "execution_count": 514,
   "id": "750f9a6b",
   "metadata": {},
   "outputs": [],
   "source": [
    "# Convert all municipalty codes to the new ones.\n",
    "conv_dict = pd.Series(conversions['newCode'].values, index = conversions['oldCode']).to_dict()\n",
    "availy['RegioS'] = availy['RegioS'].apply(lambda x: conv_dict[x] if x in conv_dict.keys() else x)\n",
    "\n",
    "# Group by regio and year and use the aggregation dictionary to decide on the aggregation per column.\n",
    "availy = availy.groupby(['StatusVanBewoning', 'RegioS', 'Perioden']).agg(header_dict).reset_index()"
   ]
  },
  {
   "cell_type": "markdown",
   "id": "00a7e014",
   "metadata": {},
   "source": [
    "There are three types of \"StatusVanBewoning\":\n",
    "\n",
    "    A028725 = Bewoonde woning.\n",
    "    A028726 = Onbewoonde woning.\n",
    "    T001235 = Totale voorraad woningen.\n",
    "    \n",
    "It holds for all regions for a specific year that: A028725 + A028726 = T001235 For all values in the columns"
   ]
  },
  {
   "cell_type": "code",
   "execution_count": 515,
   "id": "79cee795",
   "metadata": {},
   "outputs": [],
   "source": [
    "# Remove all municipalities from the prices df that are not in the moves df (RegiovanVertrek & RegioVanVestiging are the same size.)\n",
    "unique_availy = availy.RegioS.unique()\n",
    "unique_moves = moves.RegioVanVestiging.unique()\n",
    "difference = set(unique_availy) - set(unique_moves)\n",
    "difference3 = set(unique_moves) -set(unique_availy) # moves has 4 more municipalities that availy does not have\n",
    "difference_index3 = availy.loc[availy[\"RegioS\"].isin(difference)].index\n",
    "availy.drop(difference_index3, inplace=True)"
   ]
  },
  {
   "cell_type": "markdown",
   "id": "943b9e3e",
   "metadata": {},
   "source": [
    "Right now there are 4 municipalities in moves that are not in the availability data. There is however not much we can do about that. They are recently converted municipalities (2021). You can see them if you type: difference3"
   ]
  },
  {
   "cell_type": "code",
   "execution_count": 516,
   "id": "ea1d7f03",
   "metadata": {},
   "outputs": [],
   "source": [
    "availy.to_pickle(\"../ikosdfs/availability.pkl\")"
   ]
  },
  {
   "cell_type": "markdown",
   "id": "9d9dc12c",
   "metadata": {},
   "source": [
    "# Endnotes/TODO's "
   ]
  },
  {
   "cell_type": "markdown",
   "id": "76b59373",
   "metadata": {},
   "source": [
    "-Ik Weet van sommige kolommen niet zeker of de aggregatie met een som/mean of andere soort functie moet worden gedaan. Als iemand daar even een sterke mening over zou kunnen geven zou chill zijn.\n",
    "\n",
    "-Er gaan volgens mij nog een paar dingen fout bij het cleanen van de prices dataset. Wat de gemiddelde woningwaarde precies inhoud is mij vrij onduidelijk en er zijn ook nog een paar nan values in diezelfde tabel waar we nog mee moeten dealen.\n",
    "\n",
    "-Er is overlap tussen kolom \"Woningen_2\" van de prices tabel en \"TotaleWoningvoorraad_1\" van de availability dataset. De cijfers komen echter niet overeen, wat enigszins raar is gezien andere overlappende waardes in CBS tabellen wel overeenkomen.\n",
    "\n",
    "-De availability dataset heeft geen informatie over vier specifieke gemeenten die in 2021 zijn gemerged. Wat willen we daar mee doen?\n",
    "\n",
    "-Alle gecleanede datasets zijn nu opgeslagen in de map ikosdfs."
   ]
  }
 ],
 "metadata": {
  "kernelspec": {
   "display_name": "Python 3 (ipykernel)",
   "language": "python",
   "name": "python3"
  },
  "language_info": {
   "codemirror_mode": {
    "name": "ipython",
    "version": 3
   },
   "file_extension": ".py",
   "mimetype": "text/x-python",
   "name": "python",
   "nbconvert_exporter": "python",
   "pygments_lexer": "ipython3",
   "version": "3.10.0"
  }
 },
 "nbformat": 4,
 "nbformat_minor": 5
}
