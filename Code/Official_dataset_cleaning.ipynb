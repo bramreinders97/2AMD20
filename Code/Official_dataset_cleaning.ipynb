{
 "cells": [
  {
   "cell_type": "markdown",
   "id": "7ff0265f",
   "metadata": {},
   "source": [
    "# Imports"
   ]
  },
  {
   "cell_type": "code",
   "execution_count": 110,
   "id": "ea0c7eb2",
   "metadata": {},
   "outputs": [],
   "source": [
    "import pandas as pd\n",
    "import numpy as np\n",
    "import math"
   ]
  },
  {
   "cell_type": "markdown",
   "id": "e83b4f64",
   "metadata": {},
   "source": [
    "# Load in datasets"
   ]
  },
  {
   "cell_type": "code",
   "execution_count": 111,
   "id": "cee8ddcb",
   "metadata": {},
   "outputs": [],
   "source": [
    "# Load in dataset\n",
    "conversions = pd.read_csv(\"../Data/Conversions.csv\").astype('string')"
   ]
  },
  {
   "cell_type": "markdown",
   "id": "4056e264",
   "metadata": {},
   "source": [
    "## Clean moves"
   ]
  },
  {
   "cell_type": "code",
   "execution_count": 112,
   "id": "9f6dc8f3",
   "metadata": {},
   "outputs": [],
   "source": [
    "# Load moves\n",
    "moves = pd.read_csv(\"../Data/moves.csv\", sep=\";\")\n",
    "\n",
    "# convert years to ints.\n",
    "moves['Perioden'] = moves['Perioden'].map(lambda x: x.rstrip('00').rstrip(\"JJ\"))\n",
    "moves['Perioden'] = pd.to_datetime(moves['Perioden'], format='%Y').dt.year\n",
    "moves.reset_index(inplace=True)\n",
    "moves.drop(columns = ['index'],inplace=True)"
   ]
  },
  {
   "cell_type": "code",
   "execution_count": 113,
   "id": "b5b1c6f8",
   "metadata": {},
   "outputs": [],
   "source": [
    "# Load in top 10 townships\n",
    "top_10_townships = ['GM0363','GM0599','GM0518','GM0344','GM0772','GM0855','GM0014','GM0034','GM0758','GM0268']\n",
    "\n",
    "# Only keep rows where at least the vestiging or vertrek is one of the top 10 cities\n",
    "moves = moves.loc[(moves['RegioVanVestiging'].isin(top_10_townships)) | (moves['RegioVanVertrek'].isin(top_10_townships))]"
   ]
  },
  {
   "cell_type": "code",
   "execution_count": 114,
   "id": "4e54fabc",
   "metadata": {},
   "outputs": [],
   "source": [
    "# Drop ten boer, cause fuck em\n",
    "ten_boer = \"GM0009\"\n",
    "tb1 = moves.loc[(moves['RegioVanVestiging']== \"GM0014\") & (moves['RegioVanVertrek'] == \"GM0009\")].index\n",
    "tb2 = moves.loc[(moves['RegioVanVestiging']== \"GM0009\") & (moves['RegioVanVertrek'] == \"GM0014\")].index\n",
    "moves.drop(tb1, inplace=True)\n",
    "moves.drop(tb2, inplace=True)"
   ]
  },
  {
   "cell_type": "code",
   "execution_count": 115,
   "id": "c18f508d",
   "metadata": {},
   "outputs": [],
   "source": [
    "# Convert all municipalty codes to the new ones.\n",
    "conv_dict = pd.Series(conversions['newCode'].values, index = conversions['oldCode']).to_dict()\n",
    "moves['RegioVanVestiging'] = moves['RegioVanVestiging'].apply(lambda x: conv_dict[x] if x in conv_dict.keys() else x)\n",
    "moves['RegioVanVertrek'] = moves['RegioVanVertrek'].apply(lambda x: conv_dict[x] if x in conv_dict.keys() else x)"
   ]
  },
  {
   "cell_type": "code",
   "execution_count": 116,
   "id": "490208ca",
   "metadata": {},
   "outputs": [],
   "source": [
    "moves = moves.groupby(['RegioVanVestiging', 'RegioVanVertrek', 'Perioden']).agg({'TussenGemeentenVerhuisdePersonen_1': 'sum'}).reset_index()"
   ]
  },
  {
   "cell_type": "code",
   "execution_count": 117,
   "id": "881c50f9",
   "metadata": {},
   "outputs": [],
   "source": [
    "# Drop 4 municipalites that were converted before 2015, but still poison the dataset.\n",
    "todrop = {'GM0366', 'GM0412', 'GM0462', 'GM0463'}\n",
    "idx = moves[moves[\"RegioVanVestiging\"].isin(todrop)].index\n",
    "moves.drop(idx, inplace=True)"
   ]
  },
  {
   "cell_type": "code",
   "execution_count": 118,
   "id": "41c1c310",
   "metadata": {},
   "outputs": [],
   "source": [
    "# Save the dataset\n",
    "moves.to_pickle(\"../cleanedDFs/moves.pkl\")"
   ]
  },
  {
   "cell_type": "markdown",
   "id": "42b552ec",
   "metadata": {},
   "source": [
    "## Clean prices"
   ]
  },
  {
   "cell_type": "code",
   "execution_count": 119,
   "id": "23020868",
   "metadata": {},
   "outputs": [],
   "source": [
    "# Load prices\n",
    "prices = pd.read_csv(\"../Data/house_prices_new.csv\", sep = ';')"
   ]
  },
  {
   "cell_type": "code",
   "execution_count": 120,
   "id": "5361747e",
   "metadata": {},
   "outputs": [],
   "source": [
    "# Drop everything that is not a municipality\n",
    "prices = prices.loc[285:]\n",
    "prices.reset_index(inplace=True)\n",
    "prices.drop(columns = 'index',inplace=True)\n",
    "\n",
    "# Filter the year code to become int64\n",
    "prices['Perioden'] = prices['Perioden'].map(lambda x: x.rstrip('00').rstrip(\"JJ\"))\n",
    "prices['Perioden'] = pd.to_datetime(prices['Perioden'], format='%Y').dt.year\n",
    "\n",
    "# Replace \".\" with nan values and convert to float\n",
    "prices.loc[ prices['GemiddeldeWoningwaarde_4'] == '       .', 'GemiddeldeWoningwaarde_4'] = np.nan\n",
    "prices['GemiddeldeWoningwaarde_4'] = prices['GemiddeldeWoningwaarde_4'].astype(float)"
   ]
  },
  {
   "cell_type": "code",
   "execution_count": 121,
   "id": "f54f96b6",
   "metadata": {},
   "outputs": [],
   "source": [
    "# Convert all municipalty codes to the new ones.\n",
    "conv_dict = pd.Series(conversions['newCode'].values, index = conversions['oldCode']).to_dict()\n",
    "prices['RegioS'] = prices['RegioS'].apply(lambda x: conv_dict[x] if x in conv_dict.keys() else x)\n",
    "\n",
    "# Group by regio and year and add up woningen_2 and take the mean of gemiddeldewoningwaarde_4.\n",
    "prices = prices.groupby(['RegioS', 'Perioden']).agg({'Woningen_2':'sum','GemiddeldeWoningwaarde_4': 'mean'}).reset_index()"
   ]
  },
  {
   "cell_type": "code",
   "execution_count": 122,
   "id": "f378cb35",
   "metadata": {},
   "outputs": [],
   "source": [
    "# Remove all municipalities from the prices df that are not in the moves df (RegiovanVertrek & RegioVanVestiging are the same size.)\n",
    "unique_prices = prices.RegioS.unique()\n",
    "unique_moves = moves.RegioVanVestiging.unique()\n",
    "difference = set(unique_prices) - set(unique_moves)\n",
    "difference2 = set(unique_moves) -set(unique_prices) # There is no municipality in prices that is not in moves.\n",
    "difference_index = prices.loc[prices[\"RegioS\"].isin(difference)].index\n",
    "prices.drop(difference_index, inplace=True)"
   ]
  },
  {
   "cell_type": "code",
   "execution_count": 123,
   "id": "aa5897de",
   "metadata": {},
   "outputs": [],
   "source": [
    "# Save the dataset\n",
    "prices.to_pickle(\"../cleanedDFs/prices.pkl\")"
   ]
  },
  {
   "cell_type": "markdown",
   "id": "b08d9eed",
   "metadata": {},
   "source": [
    "## Clean population"
   ]
  },
  {
   "cell_type": "code",
   "execution_count": 124,
   "id": "f2fb3d3f",
   "metadata": {},
   "outputs": [],
   "source": [
    "# Load in the dataset\n",
    "population = pd.read_csv(\"../Data/population_size.csv\", sep = ';')\n",
    "\n",
    "# Do the thing with the gender that Bram did\n",
    "population = population[population['Geslacht'] == 'T001038']\n",
    "\n",
    "# Filter the year code to become int64\n",
    "population['Perioden'] = population['Perioden'].map(lambda x: x.rstrip('00').rstrip(\"JJ\"))\n",
    "population['Perioden'] = pd.to_datetime(population['Perioden'], format='%Y').dt.year"
   ]
  },
  {
   "cell_type": "code",
   "execution_count": 125,
   "id": "e232b312",
   "metadata": {},
   "outputs": [
    {
     "name": "stdout",
     "output_type": "stream",
     "text": [
      "People who moved from amsterdam according to moves dataset:  36285.0\n",
      "People who moved from amsterdam according to population dataset:  186    36285.0\n",
      "Name: UitAndereGemeente_11, dtype: float64\n"
     ]
    }
   ],
   "source": [
    "# Holy shit het klopt (Dit is een test om te kijken of de CBS data tussen datasets overeenkomt)\n",
    "headers = population.columns.values.tolist()\n",
    "\n",
    "# Dit is de som van alle mensen die uit amsterdam zijn vertrokken\n",
    "dim = moves[moves[\"RegioVanVestiging\"] == \"GM0363\"]\n",
    "dim2 = dim[dim[\"Perioden\"] == 2017]\n",
    "print(\"People who moved from amsterdam according to moves dataset: \", sum(dim2[\"TussenGemeentenVerhuisdePersonen_1\"]))\n",
    "\n",
    "dom = population[population[\"RegioS\"]==\"GM0363\"]\n",
    "dom2 = dom[dom[\"Perioden\"] == 2017]\n",
    "print(\"People who moved from amsterdam according to population dataset: \", dom2[\"UitAndereGemeente_11\"])"
   ]
  },
  {
   "cell_type": "code",
   "execution_count": 126,
   "id": "48f5bea2",
   "metadata": {},
   "outputs": [],
   "source": [
    "# Make a dictionary of the relevant headers and their aggregation method\n",
    "\n",
    "header_agg = { 'BevolkingOp1Januari_1': 'sum', \n",
    "  'Bevolkingsdichtheid_2': 'sum', \n",
    "  'LevendGeborenKinderen_3': 'sum', \n",
    "  'LevendGeborenKinderenRelatief_4' : 'mean',   \n",
    "  'Overledenen_5': 'sum', \n",
    "  'OverledenenRelatief_6': 'mean', \n",
    "  'Geboorteoverschot_7': 'sum', \n",
    "  'TotaalVestiging_8': 'sum', \n",
    "  'TotaalVestigingRelatief_9': 'mean', \n",
    "  'Immigratie_10': 'sum', \n",
    "  'UitAndereGemeente_11': 'sum', \n",
    "  'TotaalVertrekInclusiefCorrecties_12': 'sum', \n",
    "  'TotaalVertrekInclusiefCoRelatief_13': 'mean', \n",
    "  'EmigratieInclusiefAdministratieveC_14': 'sum', \n",
    "  'SaldoAdministratieveCorrecties_15': 'sum', \n",
    "  'NaarAndereGemeente_16': 'sum', \n",
    "  'VestigingsoverschotInclusiefCorrecties_17': 'sum', \n",
    "  'TotaleGroei_18': 'sum', \n",
    "  'TotaleGroeiRelatief_19': 'mean', \n",
    "  'BevolkingOp31December_20': 'sum'\n",
    "}\n",
    "\n",
    "# Convert all object items to floats to avoid errors:\n",
    "population['LevendGeborenKinderenRelatief_4'] = population['LevendGeborenKinderenRelatief_4'].astype(float)\n",
    "population['OverledenenRelatief_6'] = population['OverledenenRelatief_6'].astype(float)\n",
    "population['TotaalVestigingRelatief_9'] = population['TotaalVestigingRelatief_9'].astype(float)\n",
    "population['TotaleGroeiRelatief_19'] = population['TotaleGroeiRelatief_19'].astype(float)\n",
    "population['TotaalVertrekInclusiefCoRelatief_13'] = population['TotaalVertrekInclusiefCoRelatief_13'].astype(float)\n",
    "population['BevolkingOp1Januari_1'] = population['BevolkingOp1Januari_1'].astype(float)\n",
    "population['Bevolkingsdichtheid_2'] = population['Bevolkingsdichtheid_2'].astype(float)\n"
   ]
  },
  {
   "cell_type": "code",
   "execution_count": 127,
   "id": "f794aa05",
   "metadata": {},
   "outputs": [],
   "source": [
    "# Convert all municipalty codes to the new ones.\n",
    "conv_dict = pd.Series(conversions['newCode'].values, index = conversions['oldCode']).to_dict()\n",
    "population['RegioS'] = population['RegioS'].apply(lambda x: conv_dict[x] if x in conv_dict.keys() else x)\n",
    "\n",
    "# Group by regio and year and use the aggregation dictionary to decide on the aggregation per column.\n",
    "population = population.groupby(['RegioS', 'Perioden']).agg(header_agg).reset_index()"
   ]
  },
  {
   "cell_type": "code",
   "execution_count": 128,
   "id": "9c40ccf4",
   "metadata": {},
   "outputs": [],
   "source": [
    "# Remove all municipalities from the population df that are not in the moves df (RegiovanVertrek & RegioVanVestiging are the same size.)\n",
    "unique_population = population.RegioS.unique()\n",
    "unique_moves = moves.RegioVanVestiging.unique()\n",
    "difference = set(unique_population) - set(unique_moves)\n",
    "difference2 = set(unique_moves) -set(unique_population) # There is no municipality in population that is not in moves.\n",
    "difference_index2 = population.loc[population[\"RegioS\"].isin(difference)].index\n",
    "population.drop(difference_index2, inplace=True)"
   ]
  },
  {
   "cell_type": "code",
   "execution_count": 129,
   "id": "df451843",
   "metadata": {},
   "outputs": [],
   "source": [
    "population.to_pickle(\"../cleanedDFs/population.pkl\")"
   ]
  },
  {
   "cell_type": "markdown",
   "id": "f064bc85",
   "metadata": {},
   "source": [
    "## Clean availability"
   ]
  },
  {
   "cell_type": "code",
   "execution_count": 130,
   "id": "b304f488",
   "metadata": {},
   "outputs": [],
   "source": [
    "# Load the dataset\n",
    "availy = pd.read_csv(\"../Data/house_availability.csv\", sep = ';')\n",
    "\n",
    "# Filter the year code to become int64\n",
    "availy['Perioden'] = availy['Perioden'].map(lambda x: x.rstrip('00').rstrip(\"JJ\"))\n",
    "availy['Perioden'] = pd.to_datetime(availy['Perioden'], format='%Y').dt.year\n",
    "\n",
    "# Drop all 2021 periods\n",
    "availy = availy.drop(availy[availy.Perioden == 2021].index)\n"
   ]
  },
  {
   "cell_type": "code",
   "execution_count": 131,
   "id": "e5aae7d0",
   "metadata": {},
   "outputs": [],
   "source": [
    "column_headers = availy.columns.values.tolist()\n",
    "column_headers\n",
    "header_dict = {\n",
    " 'TotaleWoningvoorraad_1': 'sum',\n",
    " 'Koopwoningen_2': 'sum',\n",
    " 'TotaalHuurwoningen_3': 'sum',\n",
    " 'EigendomWoningcorporatie_4': 'sum',\n",
    " 'EigendomOverigeVerhuurders_5': 'sum',\n",
    " 'EigendomOnbekend_6': 'sum'\n",
    "}"
   ]
  },
  {
   "cell_type": "code",
   "execution_count": 132,
   "id": "750f9a6b",
   "metadata": {},
   "outputs": [],
   "source": [
    "# Convert all municipalty codes to the new ones.\n",
    "conv_dict = pd.Series(conversions['newCode'].values, index = conversions['oldCode']).to_dict()\n",
    "availy['RegioS'] = availy['RegioS'].apply(lambda x: conv_dict[x] if x in conv_dict.keys() else x)\n",
    "\n",
    "# Group by regio and year and use the aggregation dictionary to decide on the aggregation per column.\n",
    "availy = availy.groupby(['StatusVanBewoning', 'RegioS', 'Perioden']).agg(header_dict).reset_index()"
   ]
  },
  {
   "cell_type": "markdown",
   "id": "00a7e014",
   "metadata": {},
   "source": [
    "There are three types of \"StatusVanBewoning\":\n",
    "\n",
    "    A028725 = Bewoonde woning.\n",
    "    A028726 = Onbewoonde woning.\n",
    "    T001235 = Totale voorraad woningen.\n",
    "    \n",
    "It holds for all regions for a specific year that: A028725 + A028726 = T001235 For all values in the columns"
   ]
  },
  {
   "cell_type": "code",
   "execution_count": 133,
   "id": "79cee795",
   "metadata": {},
   "outputs": [],
   "source": [
    "# Remove all municipalities from the prices df that are not in the moves df (RegiovanVertrek & RegioVanVestiging are the same size.)\n",
    "unique_availy = availy.RegioS.unique()\n",
    "unique_moves = moves.RegioVanVestiging.unique()\n",
    "difference = set(unique_availy) - set(unique_moves)\n",
    "difference3 = set(unique_moves) -set(unique_availy) \n",
    "difference_index3 = availy.loc[availy[\"RegioS\"].isin(difference)].index\n",
    "availy.drop(difference_index3, inplace=True)"
   ]
  },
  {
   "cell_type": "code",
   "execution_count": 134,
   "id": "ea1d7f03",
   "metadata": {},
   "outputs": [],
   "source": [
    "availy.to_pickle(\"../cleanedDFs/availability.pkl\")"
   ]
  },
  {
   "cell_type": "markdown",
   "id": "9d9dc12c",
   "metadata": {},
   "source": [
    "# Endnotes/TODO's "
   ]
  },
  {
   "cell_type": "markdown",
   "id": "f47f00cb",
   "metadata": {},
   "source": [
    "-Er is overlap tussen kolom \"Woningen_2\" van de prices tabel en \"TotaleWoningvoorraad_1\" van de availability dataset. De cijfers komen echter niet overeen, wat enigszins raar is gezien andere overlappende waardes in CBS tabellen wel overeenkomen.\n",
    "(We laten ze staan voor nu)\n",
    "\n",
    "\n",
    "-Alle gecleanede datasets zijn nu opgeslagen in de map cleanedDFs."
   ]
  }
 ],
 "metadata": {
  "kernelspec": {
   "display_name": "Python 3 (ipykernel)",
   "language": "python",
   "name": "python3"
  },
  "language_info": {
   "codemirror_mode": {
    "name": "ipython",
    "version": 3
   },
   "file_extension": ".py",
   "mimetype": "text/x-python",
   "name": "python",
   "nbconvert_exporter": "python",
   "pygments_lexer": "ipython3",
   "version": "3.10.0"
  }
 },
 "nbformat": 4,
 "nbformat_minor": 5
}
