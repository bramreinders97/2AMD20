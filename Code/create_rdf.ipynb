{
 "cells": [
  {
   "cell_type": "markdown",
   "metadata": {},
   "source": [
    "Imports"
   ]
  },
  {
   "cell_type": "code",
   "execution_count": 7,
   "metadata": {},
   "outputs": [],
   "source": [
    "import pandas as pd\n",
    "import numpy as np\n",
    "from rdflib import Graph, URIRef, RDF, Literal\n",
    "from rdflib.namespace import RDF"
   ]
  },
  {
   "cell_type": "markdown",
   "metadata": {},
   "source": [
    "Retrieve DFs"
   ]
  },
  {
   "cell_type": "code",
   "execution_count": 8,
   "metadata": {},
   "outputs": [],
   "source": [
    "moves = pd.read_pickle(\"../Prepared_DFs/moves.pkl\")\n",
    "house_prices = pd.read_pickle(\"../Prepared_DFs/house_prices.pkl\")\n",
    "house_prices_new = pd.read_pickle(\"../Prepared_DFs/house_prices_new.pkl\")\n",
    "house_availability = pd.read_pickle(\"../Prepared_DFs/house_availability.pkl\")\n",
    "population = pd.read_pickle(\"../Prepared_DFs/population.pkl\")"
   ]
  },
  {
   "cell_type": "markdown",
   "metadata": {},
   "source": [
    "RDF Creation Functions"
   ]
  },
  {
   "cell_type": "code",
   "execution_count": 13,
   "metadata": {},
   "outputs": [],
   "source": [
    "\"\"\"\n",
    "As soon as we're done with cleaning, we should take a look at:\n",
    "    - Does the rdf look exactly as desired?\n",
    "    - Expand rdf? Maybe adding stuff like \n",
    "    township = URIRef('http://rdfs.co/juso/Township') to townships,\n",
    "    and do similar stuff for other attributes?\n",
    "\"\"\"\n",
    "\n",
    "\"\"\"\n",
    "Note to myself: I tried to create IRI's for the tablenames and \n",
    "columns/rows because IRI's are mentioned here:\n",
    "\n",
    "https://www.w3.org/TR/rdb-direct-mapping/PR-to-REC#RDF-IRI\n",
    "\"\"\"\n",
    "\n",
    "def add_all_townships_to_rdf(rdf_graph):\n",
    "    \"\"\"\n",
    "    For each township in the data, create a URIRef, and add to triple.\n",
    "    E.g. for township GM0034, add triple \n",
    "\n",
    "        (GM0034, rdf.type, township)\n",
    "        'GM0034 is a township'\n",
    "    \n",
    "    to the rdf.\n",
    "    \"\"\"\n",
    "    #Create nodes for the townships, will be the object of the triple\n",
    "    township_URI = URIRef('http://rdfs.co/juso/Township')\n",
    "\n",
    "    #I only look at this column. RegioVanVertrek has exactly the same values (I checked)\n",
    "    unique_townships_vestiging = moves.RegioVanVestiging.unique()\n",
    "\n",
    "    #loop over all townships, as we want to create triples for all townships\n",
    "    for township in unique_townships_vestiging:\n",
    "        \n",
    "        #this will be the subject of the triple\n",
    "        township_node = URIRef(f\"http://example.org/{township}\")\n",
    "\n",
    "        #add the triple\n",
    "        rdf_graph.add((township_node, RDF.type, township_URI))\n",
    "\n",
    "\n",
    "def from_table_to_rdf(rdf_graph, df, table_name):\n",
    "    \"\"\"\n",
    "    Given a table, add all content from the table to the rdf.\n",
    "\n",
    "    The resulting rdf will look as shown in rdf.pdf in the Images folder.\n",
    "    \"\"\"\n",
    "    columns = df.columns.to_list()\n",
    "    columns.remove('ID')\n",
    "\n",
    "    #remove regio column(s), the triples relating to these columns \n",
    "    #will be added manually\n",
    "    if 'RegioS' in columns:\n",
    "            columns.remove('RegioS')\n",
    "            single_regio_col = True\n",
    "    else:\n",
    "            columns.remove('RegioVanVestiging')\n",
    "            columns.remove('RegioVanVertrek')\n",
    "            single_regio_col = False\n",
    "    \n",
    "    #Based on slide 12 from lecture 7, the table name will be\n",
    "    #the type of the common subjects\n",
    "    table_IRI = URIRef(f\"{table_name}\")\n",
    "\n",
    "    for _, row in df.iterrows():\n",
    "\n",
    "        #create e.g. <Moves/ID=283955>\n",
    "        row_IRI = URIRef(f\"{table_name}/ID={row['ID']}\")\n",
    "        rdf_graph.add((row_IRI, RDF.type, table_IRI))\n",
    "\n",
    "        #add triples corresponding to townships manually, because this is not as\n",
    "        #simple as just adding a literal. We want to refer back to specific township node\n",
    "        #as added to the rdf by add_all_townships_to_rdf()\n",
    "        if single_regio_col:            \n",
    "            township = row['RegioS']\n",
    "\n",
    "            #E.g add (HouseAvailability/ID=664, HouseAvailability#RegioS, GM0034)\n",
    "            rdf_graph.add((row_IRI, URIRef(f\"{table_name}#RegioS\"), URIRef(f\"http://example.org/{township}\")))\n",
    "\n",
    "        else:\n",
    "            township_vestiging = row['RegioVanVestiging']\n",
    "            township_vertrek = row['RegioVanVertrek']\n",
    "\n",
    "            # E.g. add (Moves/ID=283955, Moves#RegioVanVestiging, GM1680)\n",
    "            # and      (Moves/ID=283955, Moves#RegioVanVertrek, GM0034)       \n",
    "            rdf_graph.add((row_IRI, URIRef(f\"{table_name}#RegioVanVestiging\"), URIRef(f\"http://example.org/{township_vestiging}\")))\n",
    "            rdf_graph.add((row_IRI, URIRef(f\"{table_name}#RegioVanVertrek\"), URIRef(f\"http://example.org/{township_vertrek}\")))\n",
    "\n",
    "        #loop over leftover columns in order to add all other values\n",
    "        for col in columns:\n",
    "            col_IRI = URIRef(f\"{table_name}#{col}\")\n",
    "            literal = Literal(row[col])\n",
    "\n",
    "            rdf_graph.add((row_IRI, col_IRI, literal))\n",
    "        \n",
    "        \n",
    "    \n"
   ]
  },
  {
   "cell_type": "markdown",
   "metadata": {},
   "source": [
    "Actually creating the RDF"
   ]
  },
  {
   "cell_type": "code",
   "execution_count": 10,
   "metadata": {},
   "outputs": [],
   "source": [
    "#Create rdf graph\n",
    "g = Graph()"
   ]
  },
  {
   "cell_type": "code",
   "execution_count": 14,
   "metadata": {},
   "outputs": [],
   "source": [
    "#add all township nodes to rdf\n",
    "add_all_townships_to_rdf(g)"
   ]
  },
  {
   "cell_type": "code",
   "execution_count": null,
   "metadata": {},
   "outputs": [],
   "source": [
    "#add all info from tables to rdf\n",
    "from_table_to_rdf(g, moves.head(), \"Moves\")\n",
    "from_table_to_rdf(g, house_prices_new.head(), \"HousePrices\")\n",
    "from_table_to_rdf(g, house_availability.head(), \"HouseAvailability\")\n",
    "from_table_to_rdf(g, population.head(), \"Population\")"
   ]
  },
  {
   "cell_type": "code",
   "execution_count": null,
   "metadata": {},
   "outputs": [],
   "source": [
    "#Check results\n",
    "print(g.serialize(format='n3'))"
   ]
  },
  {
   "cell_type": "markdown",
   "metadata": {},
   "source": [
    "Hieronder is geklad/ideen, niet belangrijk"
   ]
  },
  {
   "cell_type": "code",
   "execution_count": 12,
   "metadata": {},
   "outputs": [
    {
     "data": {
      "text/plain": [
       "<Graph identifier=Nc7f70efd9c6f48ddac731444b46d5dbf (<class 'rdflib.graph.Graph'>)>"
      ]
     },
     "execution_count": 12,
     "metadata": {},
     "output_type": "execute_result"
    }
   ],
   "source": [
    "township = URIRef('http://rdfs.co/juso/Township')\n",
    "gm0034 = URIRef(\"http://example.org/gm0034\")\n",
    "\n",
    "\"\"\"Ik denk dat we door de verschillende tables moeten loopen en dan triples toevoegen waarbij de gemeentes steeds de subject (eerste ding in de triple) zijn\n",
    "Zoals bijv hieronder:\n",
    "\n",
    "GM0034 -> is een -> gemeente (aangegeven door de uri hierboven)\n",
    "(ik denk eigenlijk dat we voor GM0034 ook online references kunnen vinden naar de wiki oid van de daadwerkelijke gemeente ipv t te doen via http://example.org/gm0034\n",
    "\n",
    "Door alle tables in triples aan 1 graph toe te voegen heb je dan alle info op 1 plek\"\"\"\n",
    "\n",
    "g = Graph()\n",
    "\n",
    "g.add((gm0034, RDF.type, township))\n",
    "\n",
    "# print(g.serialize(format='n3'))"
   ]
  }
 ],
 "metadata": {
  "interpreter": {
   "hash": "727a84010f0dc8d5fe2f2d7b7c39904041e2e9be84c773d3d3a76172b82d5efe"
  },
  "kernelspec": {
   "display_name": "Python 3 (ipykernel)",
   "language": "python",
   "name": "python3"
  },
  "language_info": {
   "codemirror_mode": {
    "name": "ipython",
    "version": 3
   },
   "file_extension": ".py",
   "mimetype": "text/x-python",
   "name": "python",
   "nbconvert_exporter": "python",
   "pygments_lexer": "ipython3",
   "version": "3.9.12"
  }
 },
 "nbformat": 4,
 "nbformat_minor": 2
}
