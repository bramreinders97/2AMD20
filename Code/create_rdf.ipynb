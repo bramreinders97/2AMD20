{
 "cells": [
  {
   "cell_type": "markdown",
   "metadata": {},
   "source": [
    "Imports"
   ]
  },
  {
   "cell_type": "code",
   "execution_count": 11,
   "metadata": {},
   "outputs": [],
   "source": [
    "import pandas as pd\n",
    "from rdflib import Graph, URIRef, RDF"
   ]
  },
  {
   "cell_type": "markdown",
   "metadata": {},
   "source": [
    "Retrieve DFs"
   ]
  },
  {
   "cell_type": "code",
   "execution_count": 3,
   "metadata": {},
   "outputs": [],
   "source": [
    "moves = pd.read_pickle(\"../Prepared_DFs/moves.pkl\")\n",
    "house_prices = pd.read_pickle(\"../Prepared_DFs/house_prices.pkl\")\n",
    "house_availability = pd.read_pickle(\"../Prepared_DFs/house_availability.pkl\")\n",
    "population = pd.read_pickle(\"../Prepared_DFs/population.pkl\")"
   ]
  },
  {
   "cell_type": "code",
   "execution_count": 5,
   "metadata": {},
   "outputs": [
    {
     "data": {
      "text/html": [
       "<div>\n",
       "<style scoped>\n",
       "    .dataframe tbody tr th:only-of-type {\n",
       "        vertical-align: middle;\n",
       "    }\n",
       "\n",
       "    .dataframe tbody tr th {\n",
       "        vertical-align: top;\n",
       "    }\n",
       "\n",
       "    .dataframe thead th {\n",
       "        text-align: right;\n",
       "    }\n",
       "</style>\n",
       "<table border=\"1\" class=\"dataframe\">\n",
       "  <thead>\n",
       "    <tr style=\"text-align: right;\">\n",
       "      <th></th>\n",
       "      <th>ID</th>\n",
       "      <th>RegioVanVestiging</th>\n",
       "      <th>RegioVanVertrek</th>\n",
       "      <th>Perioden</th>\n",
       "      <th>TussenGemeentenVerhuisdePersonen_1</th>\n",
       "    </tr>\n",
       "  </thead>\n",
       "  <tbody>\n",
       "    <tr>\n",
       "      <th>45</th>\n",
       "      <td>283955</td>\n",
       "      <td>GM1680</td>\n",
       "      <td>GM0034</td>\n",
       "      <td>2016JJ00</td>\n",
       "      <td>0.0</td>\n",
       "    </tr>\n",
       "    <tr>\n",
       "      <th>46</th>\n",
       "      <td>283956</td>\n",
       "      <td>GM1680</td>\n",
       "      <td>GM0034</td>\n",
       "      <td>2017JJ00</td>\n",
       "      <td>2.0</td>\n",
       "    </tr>\n",
       "    <tr>\n",
       "      <th>47</th>\n",
       "      <td>283957</td>\n",
       "      <td>GM1680</td>\n",
       "      <td>GM0034</td>\n",
       "      <td>2018JJ00</td>\n",
       "      <td>7.0</td>\n",
       "    </tr>\n",
       "    <tr>\n",
       "      <th>48</th>\n",
       "      <td>283958</td>\n",
       "      <td>GM1680</td>\n",
       "      <td>GM0034</td>\n",
       "      <td>2019JJ00</td>\n",
       "      <td>6.0</td>\n",
       "    </tr>\n",
       "    <tr>\n",
       "      <th>49</th>\n",
       "      <td>283959</td>\n",
       "      <td>GM1680</td>\n",
       "      <td>GM0034</td>\n",
       "      <td>2020JJ00</td>\n",
       "      <td>6.0</td>\n",
       "    </tr>\n",
       "    <tr>\n",
       "      <th>...</th>\n",
       "      <td>...</td>\n",
       "      <td>...</td>\n",
       "      <td>...</td>\n",
       "      <td>...</td>\n",
       "      <td>...</td>\n",
       "    </tr>\n",
       "    <tr>\n",
       "      <th>967625</th>\n",
       "      <td>2469345</td>\n",
       "      <td>GM0193</td>\n",
       "      <td>GM0344</td>\n",
       "      <td>2016JJ00</td>\n",
       "      <td>155.0</td>\n",
       "    </tr>\n",
       "    <tr>\n",
       "      <th>967626</th>\n",
       "      <td>2469346</td>\n",
       "      <td>GM0193</td>\n",
       "      <td>GM0344</td>\n",
       "      <td>2017JJ00</td>\n",
       "      <td>171.0</td>\n",
       "    </tr>\n",
       "    <tr>\n",
       "      <th>967627</th>\n",
       "      <td>2469347</td>\n",
       "      <td>GM0193</td>\n",
       "      <td>GM0344</td>\n",
       "      <td>2018JJ00</td>\n",
       "      <td>183.0</td>\n",
       "    </tr>\n",
       "    <tr>\n",
       "      <th>967628</th>\n",
       "      <td>2469348</td>\n",
       "      <td>GM0193</td>\n",
       "      <td>GM0344</td>\n",
       "      <td>2019JJ00</td>\n",
       "      <td>167.0</td>\n",
       "    </tr>\n",
       "    <tr>\n",
       "      <th>967629</th>\n",
       "      <td>2469349</td>\n",
       "      <td>GM0193</td>\n",
       "      <td>GM0344</td>\n",
       "      <td>2020JJ00</td>\n",
       "      <td>208.0</td>\n",
       "    </tr>\n",
       "  </tbody>\n",
       "</table>\n",
       "<p>43500 rows × 5 columns</p>\n",
       "</div>"
      ],
      "text/plain": [
       "             ID RegioVanVestiging RegioVanVertrek  Perioden  \\\n",
       "45       283955            GM1680          GM0034  2016JJ00   \n",
       "46       283956            GM1680          GM0034  2017JJ00   \n",
       "47       283957            GM1680          GM0034  2018JJ00   \n",
       "48       283958            GM1680          GM0034  2019JJ00   \n",
       "49       283959            GM1680          GM0034  2020JJ00   \n",
       "...         ...               ...             ...       ...   \n",
       "967625  2469345            GM0193          GM0344  2016JJ00   \n",
       "967626  2469346            GM0193          GM0344  2017JJ00   \n",
       "967627  2469347            GM0193          GM0344  2018JJ00   \n",
       "967628  2469348            GM0193          GM0344  2019JJ00   \n",
       "967629  2469349            GM0193          GM0344  2020JJ00   \n",
       "\n",
       "        TussenGemeentenVerhuisdePersonen_1  \n",
       "45                                     0.0  \n",
       "46                                     2.0  \n",
       "47                                     7.0  \n",
       "48                                     6.0  \n",
       "49                                     6.0  \n",
       "...                                    ...  \n",
       "967625                               155.0  \n",
       "967626                               171.0  \n",
       "967627                               183.0  \n",
       "967628                               167.0  \n",
       "967629                               208.0  \n",
       "\n",
       "[43500 rows x 5 columns]"
      ]
     },
     "execution_count": 5,
     "metadata": {},
     "output_type": "execute_result"
    }
   ],
   "source": [
    "moves"
   ]
  },
  {
   "cell_type": "code",
   "execution_count": 14,
   "metadata": {},
   "outputs": [
    {
     "name": "stdout",
     "output_type": "stream",
     "text": [
      "\n",
      "<http://example.org/gm0034> a <http://rdfs.co/juso/Township> .\n",
      "\n",
      "\n"
     ]
    }
   ],
   "source": [
    "township = URIRef('http://rdfs.co/juso/Township')\n",
    "gm0034 = URIRef(\"http://example.org/gm0034\")\n",
    "\n",
    "\"\"\"Ik denk dat we door de verschillende tables moeten loopen en dan triples toevoegen waarbij de gemeentes steeds de subject (eerste ding in de triple) zijn\n",
    "Zoals bijv hieronder:\n",
    "\n",
    "GM0034 -> is een -> gemeente (aangegeven door de uri hierboven)\n",
    "(ik denk eigenlijk dat we voor GM0034 ook online references kunnen vinden naar de wiki oid van de daadwerkelijke gemeente ipv t te doen via http://example.org/gm0034\n",
    "\n",
    "Door alle tables in triples aan 1 graph toe te voegen heb je dan alle info op 1 plek\"\"\"\n",
    "\n",
    "g = Graph()\n",
    "\n",
    "g.add((gm0034, RDF.type, township))\n",
    "\n",
    "# print(g.serialize(format='n3'))"
   ]
  }
 ],
 "metadata": {
  "interpreter": {
   "hash": "727a84010f0dc8d5fe2f2d7b7c39904041e2e9be84c773d3d3a76172b82d5efe"
  },
  "kernelspec": {
   "display_name": "Python 3 (ipykernel)",
   "language": "python",
   "name": "python3"
  },
  "language_info": {
   "codemirror_mode": {
    "name": "ipython",
    "version": 3
   },
   "file_extension": ".py",
   "mimetype": "text/x-python",
   "name": "python",
   "nbconvert_exporter": "python",
   "pygments_lexer": "ipython3",
   "version": "3.9.12"
  }
 },
 "nbformat": 4,
 "nbformat_minor": 2
}
