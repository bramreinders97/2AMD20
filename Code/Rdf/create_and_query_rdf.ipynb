{
 "cells": [
  {
   "cell_type": "markdown",
   "metadata": {},
   "source": [
    "Imports"
   ]
  },
  {
   "cell_type": "code",
   "execution_count": 1,
   "metadata": {},
   "outputs": [],
   "source": [
    "import pandas as pd\n",
    "import numpy as np\n",
    "from rdflib import Graph, URIRef, RDF, Literal\n",
    "from rdflib.namespace import RDF, XSD\n",
    "from copy import deepcopy"
   ]
  },
  {
   "cell_type": "markdown",
   "metadata": {},
   "source": [
    "Retrieve DFs"
   ]
  },
  {
   "cell_type": "code",
   "execution_count": 2,
   "metadata": {},
   "outputs": [],
   "source": [
    "moves = pd.read_pickle(\"../../cleanedDFs/moves.pkl\")\n",
    "house_prices = pd.read_pickle(\"../../cleanedDFs/prices.pkl\")\n",
    "house_availability = pd.read_pickle(\"../../cleanedDFs/availability.pkl\")\n",
    "population = pd.read_pickle(\"../../cleanedDFs/population.pkl\")"
   ]
  },
  {
   "cell_type": "markdown",
   "metadata": {},
   "source": [
    "Create townships dict to map the township code to the name of the township"
   ]
  },
  {
   "cell_type": "code",
   "execution_count": 3,
   "metadata": {},
   "outputs": [],
   "source": [
    "gemeentes = pd.read_excel(\"../../Data/gemeentes.xlsx\",header=None)\n",
    "zip_iter = zip(gemeentes[0].to_list(), gemeentes[1].to_list())\n",
    "municipalities_dict = dict(zip_iter)"
   ]
  },
  {
   "cell_type": "markdown",
   "metadata": {},
   "source": [
    "Specify which columns to keep in the rdf for each table"
   ]
  },
  {
   "cell_type": "code",
   "execution_count": 4,
   "metadata": {},
   "outputs": [],
   "source": [
    "relevant_cols_dict = {\n",
    "    \"Moves\": ['TussenGemeentenVerhuisdePersonen_1'],\n",
    "    \"HousePrices\": ['GemiddeldeWoningwaarde_4', 'Woningen_2'],\n",
    "    \"HouseAvailability\": ['TotaleWoningvoorraad_1', 'StatusVanBewoning'],\n",
    "    \"Population\": [\"BevolkingOp31December_20\"]\n",
    "}"
   ]
  },
  {
   "cell_type": "markdown",
   "metadata": {},
   "source": [
    "RDF Creation Functions"
   ]
  },
  {
   "cell_type": "code",
   "execution_count": 7,
   "metadata": {},
   "outputs": [],
   "source": [
    "\"\"\"\n",
    "Note to myself: I tried to create IRI's for the tablenames and \n",
    "columns/rows because IRI's are mentioned here:\n",
    "\n",
    "https://www.w3.org/TR/rdb-direct-mapping/PR-to-REC#RDF-IRI\n",
    "\"\"\"\n",
    "def add_all_possible_years(rdf_graph):\n",
    "    \"\"\"\n",
    "    Add all five years to the rdf graph.\n",
    "    \"\"\"\n",
    "    for year in [np.int64(2016), np.int64(2017), np.int64(2018), np.int64(2019), np.int64(2020)]: \n",
    "        rdf_graph.add((URIRef(f\"http://example.org/{year}\"), RDF.type, XSD.gYear))\n",
    "        \n",
    "        #I think we should be able to get a more fitting property than an example.org property here\n",
    "        rdf_graph.add((URIRef(f\"http://example.org/{year}\"), URIRef(\"http://example.org/hasValue\"), Literal(year)))\n",
    "\n",
    "    \n",
    "\n",
    "def add_all_municipalities_to_rdf(rdf_graph, municipalities_dict):\n",
    "    \"\"\"\n",
    "    For each municipality in the data, create a URIRef, and add to triple.\n",
    "    E.g. for municipality GM0034, add triples\n",
    "\n",
    "        (GM0034, rdf.type, municipality)\n",
    "        'GM0034 is a municipality'\n",
    "        &\n",
    "        (GM0034, official_name, Almere)\n",
    "        'GM0034's official name is Almere'\n",
    "    \n",
    "    to the rdf.\n",
    "    \"\"\"\n",
    "    #Create nodes for the municipalities, will be the object of the triple\n",
    "    municipality_URI = URIRef('http://rdfs.co/juso/Municipality')\n",
    "\n",
    "    #name property of 'spatial things' -> e.g. a municipality\n",
    "    official_name_URI = URIRef('http://rdfs.co/juso/official_name')\n",
    "\n",
    "    #Get all unique municipalities. To be sure get the unique values from both \n",
    "    #RegioVanVestiging and RegioVanVestiging\n",
    "    unique_municipalities = list(set(moves.RegioVanVertrek.unique().tolist() + moves.RegioVanVestiging.unique().tolist()))\n",
    "\n",
    "    #loop over all municipalities, as we want to create triples for all municipalities\n",
    "    for municipality in unique_municipalities:\n",
    "        \n",
    "        #this will be the subject of the triple\n",
    "        municipality_node = URIRef(f\"http://example.org/{municipality}\")\n",
    "\n",
    "        #get official name from the dict\n",
    "        official_name_literal = Literal(municipalities_dict[municipality])\n",
    "\n",
    "        #add the triples\n",
    "        rdf_graph.add((municipality_node, RDF.type, municipality_URI))\n",
    "        rdf_graph.add((municipality_node, official_name_URI, official_name_literal))\n",
    "\n",
    "\n",
    "def from_table_to_rdf(rdf_graph, df, table_name):\n",
    "    \"\"\"\n",
    "    Given a table, add all content from the table to the rdf.\n",
    "\n",
    "    The resulting rdf will look as shown in rdf.pdf in the Images folder.\n",
    "    \"\"\"\n",
    "    columns = df.columns.to_list()\n",
    "    columns.remove('Perioden')\n",
    "    \n",
    "    #remove regio column(s), the triples relating to these columns \n",
    "    #will be added manually\n",
    "    if 'RegioS' in columns:\n",
    "            columns.remove('RegioS')\n",
    "            single_regio_col = True\n",
    "    else:\n",
    "            columns.remove('RegioVanVestiging')\n",
    "            columns.remove('RegioVanVertrek')\n",
    "            single_regio_col = False\n",
    "    \n",
    "    #Based on slide 12 from lecture 7, the table name will be\n",
    "    #the type of the common subjects\n",
    "    table_IRI = URIRef(f\"{table_name}\")\n",
    "\n",
    "    for _, row in df.iterrows():\n",
    "\n",
    "        #create e.g. <Moves/ID=283955>\n",
    "        row_IRI = URIRef(f\"{table_name}/ID={row.name}\")\n",
    "        rdf_graph.add((row_IRI, RDF.type, table_IRI))\n",
    "\n",
    "        #Link this row to the correct year\n",
    "        rdf_graph.add((row_IRI, URIRef(f\"{table_name}#Perioden\"), URIRef(f\"http://example.org/{row['Perioden']}\"))) \n",
    "\n",
    "        #add triples corresponding to municipalities manually, because this is not as\n",
    "        #simple as just adding a literal. We want to refer back to specific municipality node\n",
    "        #as added to the rdf by add_all_municipalities_to_rdf()\n",
    "        if single_regio_col:            \n",
    "            municipality = row['RegioS']\n",
    "\n",
    "            #E.g add (HouseAvailability/ID=664, HouseAvailability#RegioS, GM0034)\n",
    "            rdf_graph.add((row_IRI, URIRef(f\"{table_name}#RegioS\"), URIRef(f\"http://example.org/{municipality}\")))\n",
    "\n",
    "        else:\n",
    "            municipality_vestiging = row['RegioVanVestiging']\n",
    "            municipality_vertrek = row['RegioVanVertrek']\n",
    "\n",
    "            # E.g. add (Moves/ID=283955, Moves#RegioVanVestiging, GM1680)\n",
    "            # and      (Moves/ID=283955, Moves#RegioVanVertrek, GM0034)       \n",
    "            rdf_graph.add((row_IRI, URIRef(f\"{table_name}#RegioVanVestiging\"), URIRef(f\"http://example.org/{municipality_vestiging}\")))\n",
    "            rdf_graph.add((row_IRI, URIRef(f\"{table_name}#RegioVanVertrek\"), URIRef(f\"http://example.org/{municipality_vertrek}\")))\n",
    "\n",
    "        #loop over leftover columns in order to add all other values\n",
    "        for col in columns:\n",
    "            col_IRI = URIRef(f\"{table_name}#{col}\")\n",
    "            \n",
    "            #If a value is NaN, don't put it in the rdf\n",
    "            #nan is a float. If you dont do both check we get TypeErrors\n",
    "            col_value = row[col]\n",
    "            if isinstance(col_value, float):\n",
    "                if np.isnan(col_value):\n",
    "                    continue\n",
    "            literal = Literal(col_value)\n",
    "\n",
    "            rdf_graph.add((row_IRI, col_IRI, literal))\n",
    "        \n",
    "        "
   ]
  },
  {
   "cell_type": "markdown",
   "metadata": {},
   "source": [
    "Actually creating the RDF"
   ]
  },
  {
   "cell_type": "code",
   "execution_count": 8,
   "metadata": {},
   "outputs": [],
   "source": [
    "#Create rdf graph\n",
    "g = Graph()"
   ]
  },
  {
   "cell_type": "code",
   "execution_count": 9,
   "metadata": {},
   "outputs": [],
   "source": [
    "add_all_possible_years(g)"
   ]
  },
  {
   "cell_type": "code",
   "execution_count": 10,
   "metadata": {},
   "outputs": [],
   "source": [
    "municipalities_dict['GM9999'] = 'UnknownMunicipality'\n",
    "\n",
    "#add all township nodes to rdf\n",
    "add_all_municipalities_to_rdf(g, municipalities_dict)"
   ]
  },
  {
   "cell_type": "code",
   "execution_count": 11,
   "metadata": {},
   "outputs": [],
   "source": [
    "#add all info from tables to rdf\n",
    "from_table_to_rdf(g, moves, \"Moves\")\n",
    "from_table_to_rdf(g, house_prices, \"HousePrices\")\n",
    "from_table_to_rdf(g, house_availability, \"HouseAvailability\")\n",
    "from_table_to_rdf(g, population, \"Population\")"
   ]
  },
  {
   "cell_type": "code",
   "execution_count": 1,
   "metadata": {},
   "outputs": [],
   "source": [
    "#Check results\n",
    "# print(g.serialize(format='n3'))"
   ]
  },
  {
   "cell_type": "markdown",
   "metadata": {},
   "source": [
    "Relevant variables/dict info for querying"
   ]
  },
  {
   "cell_type": "code",
   "execution_count": 13,
   "metadata": {},
   "outputs": [],
   "source": [
    "#Get a clear idea of the relevant prefixes for the real deal\n",
    "for prefix, namespace in g.namespaces():\n",
    "       \n",
    "    if namespace.startswith('Population'):\n",
    "        population_prefix = prefix\n",
    "    elif namespace.startswith('HouseAvailability'):\n",
    "        availability_prefix = prefix\n",
    "    elif namespace.startswith('HousePrices'):\n",
    "        prices_prefix = prefix\n",
    "    elif namespace.startswith('Moves'):\n",
    "        moves_prefix = prefix\n",
    "    elif namespace.startswith('http://example'):\n",
    "        example_prefix = prefix\n",
    "\n",
    "\n",
    "query_info_each_factor = {\n",
    "    'population': {\n",
    "        'table_prefix' : population_prefix,\n",
    "        'table_name': 'Population',\n",
    "        'var_of_interest': 'BevolkingOp31December_20'\n",
    "    },\n",
    "    'prices': {\n",
    "        'table_prefix' : prices_prefix,\n",
    "        'table_name': 'HousePrices',\n",
    "        'var_of_interest': 'GemiddeldeWoningwaarde_4'\n",
    "    },\n",
    "    'availability_A': { \n",
    "        'table_prefix' : availability_prefix,\n",
    "        'table_name': 'HouseAvailability',\n",
    "        'var_of_interest': 'TotaleWoningvoorraad_1'\n",
    "    }\n",
    "}"
   ]
  },
  {
   "cell_type": "markdown",
   "metadata": {},
   "source": [
    "Query helper functions"
   ]
  },
  {
   "cell_type": "code",
   "execution_count": 14,
   "metadata": {},
   "outputs": [],
   "source": [
    "def select_clause_creator(yearless_variable_name, period, top_10_mun = \"\", take_average = True):\n",
    "    \"\"\"\n",
    "    Return select clause.\n",
    "\n",
    "    E.g. for yearless_variable_name = nmbr_moves,\n",
    "             period = [2016,2017]\n",
    "             take_average = True\n",
    "    \n",
    "    The result is:\n",
    "        ( (?nmbr_moves2016+?nmbr_moves2017) / 2 AS ?nmbr_moves)\n",
    "    \n",
    "    If take_average = False, the result is:\n",
    "        ( (?nmbr_moves2016+?nmbr_moves2017) AS ?nmbr_moves)\n",
    "    \"\"\"    \n",
    "    string = \"( (\"\n",
    "\n",
    "    for year in period:\n",
    "        string += f'?{yearless_variable_name}_{top_10_mun}_{year}+' \n",
    "\n",
    "    string = string[:-1]\n",
    "    if take_average:\n",
    "        string += f') / {len(period)} AS ?{yearless_variable_name}_{top_10_mun})'\n",
    "    else:\n",
    "        string += f') AS ?{yearless_variable_name}_{top_10_mun})'\n",
    "\n",
    "    return string\n",
    "\n",
    "def where_clause_creator(factor, period, top_10_mun = \"\"):\n",
    "        \n",
    "    table_name = query_info_each_factor[factor]['table_name']\n",
    "    table_prefix = query_info_each_factor[factor]['table_prefix']\n",
    "    var_of_interest = query_info_each_factor[factor]['var_of_interest']\n",
    "    \n",
    "    string = \"\"\n",
    "\n",
    "    for year in period:\n",
    "        string += \\\n",
    "            f\"\"\"\n",
    "            ?{factor}_instance_{top_10_mun+\"_\"}{year} a <{table_name}> .\n",
    "            ?{factor}_instance_{top_10_mun+\"_\"}{year} {table_prefix}:RegioS {'?other_regio' if top_10_mun == \"\" else f'{example_prefix}:{top_10_mun}'} .\n",
    "            ?{factor}_instance_{top_10_mun+\"_\"}{year} {table_prefix}:Perioden {example_prefix}:{year} .\n",
    "            ?{factor}_instance_{top_10_mun+\"_\"}{year} {table_prefix}:{var_of_interest} ?{factor}_{top_10_mun}_{year} .\n",
    "            \"\"\"\n",
    "                    \n",
    "    return string"
   ]
  },
  {
   "cell_type": "markdown",
   "metadata": {},
   "source": [
    "Query Function"
   ]
  },
  {
   "cell_type": "code",
   "execution_count": 15,
   "metadata": {},
   "outputs": [],
   "source": [
    "def query_rdf(g, top_10_municipality, period, factor, top_10_is_vestiging = True, print_query = False, print_result = True):\n",
    "    \"\"\"Query the rdf graph to find all information about a given factor (population / availability_A / prices) for a \n",
    "    specific top 10 municipality and a specific time period\"\"\"\n",
    "\n",
    "    select = f\"\"\"\n",
    "    SELECT DISTINCT \n",
    "            ?other_regio\n",
    "            {select_clause_creator('nmbr_moves', period, take_average = False)}\n",
    "            {select_clause_creator(factor, period, top_10_mun=top_10_municipality)}\n",
    "            {select_clause_creator(factor, period)}\n",
    "    \"\"\"\n",
    "\n",
    "    where = \"\"\"\n",
    "        WHERE {\"\"\"\n",
    "\n",
    "    for year in period:\n",
    "        where += f\"\"\"\n",
    "            ?moves_instance{year} a <Moves> .\n",
    "            ?moves_instance{year} {moves_prefix}:RegioVanVestiging {f'{example_prefix}:{top_10_municipality}' if top_10_is_vestiging else '?other_regio'} .\n",
    "            ?moves_instance{year} {moves_prefix}:RegioVanVertrek {f'{example_prefix}:{top_10_municipality}' if not top_10_is_vestiging else '?other_regio'} .\n",
    "            ?moves_instance{year} {moves_prefix}:TussenGemeentenVerhuisdePersonen_1 ?nmbr_moves__{year} .\n",
    "            ?moves_instance{year} {moves_prefix}:Perioden {example_prefix}:{year} .\n",
    "            \"\"\"\n",
    "\n",
    "    where += where_clause_creator(factor,period,top_10_mun=top_10_municipality)\n",
    "    where += where_clause_creator(factor,period)    \n",
    "\n",
    "    where +=  \\\n",
    "        \"\"\"}\n",
    "        \"\"\"\n",
    "\n",
    "    order_by = \"\"\"\n",
    "            ORDER BY DESC(?nmbr_moves)\n",
    "            \"\"\"\n",
    "\n",
    "    final_query = select + where + order_by\n",
    "\n",
    "    if print_query:\n",
    "        print(final_query)\n",
    "\n",
    "    qres = g.query(final_query)\n",
    "    \n",
    "    if print_result:\n",
    "        for row in qres:\n",
    "            print(row)\n",
    "\n",
    "    return qres"
   ]
  },
  {
   "cell_type": "markdown",
   "metadata": {},
   "source": [
    "Run the query, and create + save DFS"
   ]
  },
  {
   "cell_type": "code",
   "execution_count": 16,
   "metadata": {},
   "outputs": [],
   "source": [
    "#need to use factor availability_A, prices, population\n",
    "def create_and_save_queried_df(rdf_graph, top_10_municipality,top_10_is_vestiging = True, save_df = False):\n",
    "        \"\"\"Run queries for all factors (prices, population, availability_A), and add results to a dataframe.\n",
    "        The queries are run per factor and not with all factors at once as doing it per factor is faster. Furthermore,\n",
    "        the visualisation asks for one factor at the time. \n",
    "\n",
    "        The resulting dataframe is saved in the QueryDFs folder. E.g. if this DF is about moves To Amsterdam,\n",
    "        the DF is saved as 'To_Amsterdam.pkl'\n",
    "        \"\"\"\n",
    "        \n",
    "        df = pd.DataFrame(columns=['gemeente_code', 'gemeente_naam', 'year', 'moves', 'prices_other', 'prices_top_10', 'population_other', 'population_top_10', 'availability_other', 'availability_top_10'])\n",
    "\n",
    "        #loop through the years to update\n",
    "        for year in ['2016','2017','2018','2019','2020']:\n",
    "        \n",
    "                #per row in query, update df\n",
    "                #eerst is dat dus alleen moves en price\n",
    "                qres = query_rdf(rdf_graph,top_10_municipality,[year],'prices',top_10_is_vestiging,False,False)\n",
    "                \n",
    "                for row in qres:    \n",
    "                        #to the df, add other_regio, name, year, #moves, price_other, price_top_10\n",
    "                        other_regio = row['other_regio'][-6:]\n",
    "\n",
    "                        df = df.append({'gemeente_code': other_regio,\n",
    "                                                'gemeente_naam': municipalities_dict[other_regio],\n",
    "                                                'moves': row.nmbr_moves_,\n",
    "                                                'year': year,\n",
    "                                                'prices_other': row.prices_,\n",
    "                                                'prices_top_10': row[f'prices_{top_10_municipality}']},True)\n",
    "\n",
    "\n",
    "                #run query for population\n",
    "                #add to the df population_other_regio, population_top_10\n",
    "                qres = query_rdf(rdf_graph,top_10_municipality,[year],'population',top_10_is_vestiging,False,False)\n",
    "\n",
    "                for row in qres:\n",
    "                        other_regio = row['other_regio'][-6:]\n",
    "                        \n",
    "                        index = df.loc[(df['gemeente_code'] == other_regio) & (df['year'] == year)].index\n",
    "                        df.at[index, 'population_other'] = row.population_\n",
    "                        df.at[index, 'population_top_10'] = row[f'population_{top_10_municipality}']\n",
    "\n",
    "\n",
    "                # run query for availability\n",
    "                # add to the df availavility_other_regio, availability_top_10\n",
    "                qres = query_rdf(rdf_graph,top_10_municipality,[year],'availability_A',top_10_is_vestiging,False,False)\n",
    "\n",
    "                for row in qres:\n",
    "                        other_regio = row['other_regio'][-6:]\n",
    "                        \n",
    "                        index = df.loc[(df['gemeente_code'] == other_regio) & (df['year'] == year)].index\n",
    "                        df.at[index, 'availability_other'] = row.availability_A_\n",
    "                        df.at[index, 'availability_top_10'] = row[f'availability_A_{top_10_municipality}']\n",
    "\n",
    "        if save_df:\n",
    "                df.to_pickle(f\"../../QueryDFs/{'To' if top_10_is_vestiging else 'From'}_{municipalities_dict[top_10_municipality]}.pkl\")\n",
    "\n",
    "        return df"
   ]
  },
  {
   "cell_type": "code",
   "execution_count": 18,
   "metadata": {},
   "outputs": [],
   "source": [
    "#set to True if I want to save the dfs again\n",
    "save_df = False\n",
    "\n",
    "#add all possible queries to dfs and save\n",
    "for municipality in ['GM0363','GM0599','GM0518','GM0344','GM0772','GM0855','GM0014','GM0034','GM0758','GM0268']:\n",
    "    for top_10_is_vestiging in [True,False]:\n",
    "\n",
    "        create_and_save_queried_df(g, municipality, top_10_is_vestiging, save_df)"
   ]
  }
 ],
 "metadata": {
  "interpreter": {
   "hash": "727a84010f0dc8d5fe2f2d7b7c39904041e2e9be84c773d3d3a76172b82d5efe"
  },
  "kernelspec": {
   "display_name": "Python 3 (ipykernel)",
   "language": "python",
   "name": "python3"
  },
  "language_info": {
   "codemirror_mode": {
    "name": "ipython",
    "version": 3
   },
   "file_extension": ".py",
   "mimetype": "text/x-python",
   "name": "python",
   "nbconvert_exporter": "python",
   "pygments_lexer": "ipython3",
   "version": "3.9.13"
  }
 },
 "nbformat": 4,
 "nbformat_minor": 2
}
