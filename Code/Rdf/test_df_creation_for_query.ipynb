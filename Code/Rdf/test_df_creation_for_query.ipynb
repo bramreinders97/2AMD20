{
 "cells": [
  {
   "cell_type": "markdown",
   "metadata": {},
   "source": [
    "I only create this file to not lose this code if it turns out to be useful later on. But this should not be in the official file"
   ]
  },
  {
   "cell_type": "code",
   "execution_count": null,
   "metadata": {},
   "outputs": [],
   "source": [
    "moves_test = moves.head()\n",
    "moves_test.at[2,'RegioVanVertrek'] = 'GM0216'\n",
    "moves_test.at[3,'RegioVanVertrek'] = 'GM0216'\n",
    "moves_test.at[2,'Perioden'] = '2016'\n",
    "moves_test.at[3,'Perioden'] = '2017'\n",
    "moves_test.at[4,'Perioden'] = '2016'\n",
    "moves_test.at[4,'RegioVanVestiging'] = 'GM0361'\n",
    "moves_test.at[4,'RegioVanVertrek'] = 'GM0003'\n",
    "moves_test.at[4,'TussenGemeentenVerhuisdePersonen_1'] = 33\n",
    "moves_test"
   ]
  },
  {
   "cell_type": "code",
   "execution_count": null,
   "metadata": {},
   "outputs": [],
   "source": [
    "#Create rdf graph\n",
    "g_test = Graph()\n",
    "add_all_possible_years(g_test)\n",
    "municipalities_dict['GM9999'] = 'NotSureWhatToDoHereYet'\n",
    "\n",
    "#add all township nodes to rdf\n",
    "add_all_municipalities_to_rdf(g_test, municipalities_dict)\n",
    "\n",
    "#add all info from tables to rdf\n",
    "from_table_to_rdf(g_test, moves.head(), \"Moves\")\n",
    "from_table_to_rdf(g_test, house_prices, \"HousePrices\")\n",
    "from_table_to_rdf(g_test, house_availability, \"HouseAvailability\")\n",
    "from_table_to_rdf(g_test, population, \"Population\")\n",
    "\n",
    "#Check results\n",
    "print(g_test.serialize(format='n3'))"
   ]
  }
 ],
 "metadata": {
  "language_info": {
   "name": "python"
  },
  "orig_nbformat": 4
 },
 "nbformat": 4,
 "nbformat_minor": 2
}
